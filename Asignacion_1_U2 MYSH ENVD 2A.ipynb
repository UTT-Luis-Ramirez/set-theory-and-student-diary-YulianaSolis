{
  "nbformat": 4,
  "nbformat_minor": 0,
  "metadata": {
    "colab": {
      "provenance": []
    },
    "kernelspec": {
      "name": "python3",
      "display_name": "Python 3"
    },
    "language_info": {
      "name": "python"
    }
  },
  "cells": [
    {
      "cell_type": "markdown",
      "source": [
        "#**ASIGNACION - Semana 1_Unidad 2**\n",
        "Gatitos Espaciales\n",
        "---\n",
        "\n"
      ],
      "metadata": {
        "id": "qKAjEbeE8QZo"
      }
    },
    {
      "cell_type": "markdown",
      "source": [
        "##**ANALISIS DE LOS CONJUNTOS DE LAS TIRADAS**\n",
        "\n",
        "**Espacio muestral/Nuestro universo 1 dado de 6 caras:{1,2,3,4,5,6}\n",
        "\n",
        "**CONJUNTOS:**\n",
        "\n",
        "A{5,3,2} , EA{4,5} ,Daño{2}\n",
        "\n",
        "B{6,6,3} , EB{6} ,Daño{12X3}\n",
        "\n",
        "C{1,1,3} , EC{4,5} ,Daño{0}\n",
        "\n",
        "D{2,2,5}, ED{4,5} ,Daño{12}\n",
        "\n",
        "E{2,1,2} ,E{5,6} ,Daño{0}\n",
        "\n",
        "F{6,3,3} ,EF{4,6} ,Daño{6}\n",
        "\n",
        "G{1,4,6} ,EG{5} ,Daño{0}\n",
        "\n",
        "H{6,3,1} ,EH{6,3} ,Daño{46}   **(Daño doble)**\n",
        "\n",
        "I{2,3,4} ,EI{5,6} ,Daño{0}\n",
        "\n",
        "J{3,2,4} ,EJ{4,5},Daño{5}\n",
        "\n"
      ],
      "metadata": {
        "id": "m7uI9FDhNiR3"
      }
    },
    {
      "cell_type": "markdown",
      "source": [
        "Obsevaciones el conjunto IyJ son iguales solo que los numero estan en diferente orden pero son los mismos. esto entraria en **Conjunto igual:** Dos conjuntos son iguales si contienen exactamente los mismos elementos. Ejemplo: F={1,2,3}F={1,2,3} y G={3,2,1}G={3,2,1} son iguales, aunque el orden sea diferente.\n",
        "\n",
        "en el conjunto D y E nos tocaron 2 dos veces lo cual es raro jaja.\n",
        "\n",
        "podemos sacar **Intersección** (∩): La intersección de dos conjuntos AA y BB es el conjunto que contiene solo los elementos que están en ambos conjuntos. eso quiere decir que la intersepcion de conjuntos seria en los conjuntos donde tenemos exitos.\n",
        "\n",
        "Tambien podemos sacar Diferencia (−): La diferencia de dos conjuntos AA y BB es el conjunto **de elementos que están en AA pero no en BB.**\n",
        "\n",
        "Con esta informacion recabada vamos a sacar varios conjuntos:}\n"
      ],
      "metadata": {
        "id": "DXYfLaOrQ_7c"
      }
    },
    {
      "cell_type": "markdown",
      "source": [
        "#**ANALISIS DE LAS TIRADAS DE LOS DADOS**\n",
        "###**U =1,2,3,4,5,6"
      ],
      "metadata": {
        "id": "shWaBPKjUTgs"
      }
    },
    {
      "cell_type": "code",
      "source": [
        "#1 graficaremos los conjuntos que son iguales:"
      ],
      "metadata": {
        "id": "bT33kilkXP2z"
      },
      "execution_count": null,
      "outputs": []
    },
    {
      "cell_type": "code",
      "source": [
        "#Instalar bibloteca:\n",
        "!pip install matplotlib-venn"
      ],
      "metadata": {
        "colab": {
          "base_uri": "https://localhost:8080/"
        },
        "id": "ubVQW5PiXVz_",
        "outputId": "4e218340-6867-47d8-f398-c49783a23ea5"
      },
      "execution_count": null,
      "outputs": [
        {
          "output_type": "stream",
          "name": "stdout",
          "text": [
            "Requirement already satisfied: matplotlib-venn in /usr/local/lib/python3.11/dist-packages (1.1.1)\n",
            "Requirement already satisfied: matplotlib in /usr/local/lib/python3.11/dist-packages (from matplotlib-venn) (3.10.0)\n",
            "Requirement already satisfied: numpy in /usr/local/lib/python3.11/dist-packages (from matplotlib-venn) (1.26.4)\n",
            "Requirement already satisfied: scipy in /usr/local/lib/python3.11/dist-packages (from matplotlib-venn) (1.13.1)\n",
            "Requirement already satisfied: contourpy>=1.0.1 in /usr/local/lib/python3.11/dist-packages (from matplotlib->matplotlib-venn) (1.3.1)\n",
            "Requirement already satisfied: cycler>=0.10 in /usr/local/lib/python3.11/dist-packages (from matplotlib->matplotlib-venn) (0.12.1)\n",
            "Requirement already satisfied: fonttools>=4.22.0 in /usr/local/lib/python3.11/dist-packages (from matplotlib->matplotlib-venn) (4.56.0)\n",
            "Requirement already satisfied: kiwisolver>=1.3.1 in /usr/local/lib/python3.11/dist-packages (from matplotlib->matplotlib-venn) (1.4.8)\n",
            "Requirement already satisfied: packaging>=20.0 in /usr/local/lib/python3.11/dist-packages (from matplotlib->matplotlib-venn) (24.2)\n",
            "Requirement already satisfied: pillow>=8 in /usr/local/lib/python3.11/dist-packages (from matplotlib->matplotlib-venn) (11.1.0)\n",
            "Requirement already satisfied: pyparsing>=2.3.1 in /usr/local/lib/python3.11/dist-packages (from matplotlib->matplotlib-venn) (3.2.1)\n",
            "Requirement already satisfied: python-dateutil>=2.7 in /usr/local/lib/python3.11/dist-packages (from matplotlib->matplotlib-venn) (2.8.2)\n",
            "Requirement already satisfied: six>=1.5 in /usr/local/lib/python3.11/dist-packages (from python-dateutil>=2.7->matplotlib->matplotlib-venn) (1.17.0)\n"
          ]
        }
      ]
    },
    {
      "cell_type": "code",
      "source": [
        "#Importamos las biblotecas para su visualizacion:\n",
        "import matplotlib.pyplot as plt\n",
        "from matplotlib_venn import venn2, venn3"
      ],
      "metadata": {
        "id": "NntSmpLlXh5g"
      },
      "execution_count": null,
      "outputs": []
    },
    {
      "cell_type": "code",
      "source": [
        "#Insertamos los datos de los conjuntos:\n",
        "I = {2,3,4}\n",
        "J = {3,2,4}\n"
      ],
      "metadata": {
        "id": "keDL5MluXzDx"
      },
      "execution_count": null,
      "outputs": []
    },
    {
      "cell_type": "markdown",
      "source": [
        "#**Conjuntos I y J**"
      ],
      "metadata": {
        "id": "z5G9dYNtaGl-"
      }
    },
    {
      "cell_type": "code",
      "source": [
        "#Codigos para la visualizacion:\n",
        "# Contar elementos solo en B\n",
        "solo_I= len(I) - interseccion\n",
        "\n",
        "# Contar elementos solo en EB\n",
        "solo_J = len(J) - interseccion\n",
        "venn2([I,J], set_labels =(\"Conjunto I  y \", \"Cojunto J\"), set_colors=(\"red\", \"red\"))\n",
        "plt.figtext(0.5, 0.01, 'Yuri', ha='center', fontsize=12)\n",
        "#Codigo para mostrar los conjuntos:\n",
        "plt.show()"
      ],
      "metadata": {
        "colab": {
          "base_uri": "https://localhost:8080/",
          "height": 458
        },
        "id": "NbbeHVgdYR7U",
        "outputId": "c299b791-8094-4e52-e1bc-0e7bffc0bfc5"
      },
      "execution_count": null,
      "outputs": [
        {
          "output_type": "display_data",
          "data": {
            "text/plain": [
              "<Figure size 640x480 with 1 Axes>"
            ],
            "image/png": "[encoded data removed]"
          },
          "metadata": {}
        }
      ]
    },
    {
      "cell_type": "code",
      "source": [
        "D = {2,2,5}\n",
        "\n",
        "E = {2,1,2}\n",
        "venn2([D,E], set_labels =(\"Conjunto D \", \"Cojunto E\"), set_colors=(\"blue\", \"red\"))\n",
        "plt.figtext(0.5, 0.01, 'Yuri', ha='center', fontsize=12)\n",
        "#Codigo para mostrar los conjuntos:\n",
        "plt.show()"
      ],
      "metadata": {
        "colab": {
          "base_uri": "https://localhost:8080/",
          "height": 458
        },
        "id": "tbCbdtXrZ_d8",
        "outputId": "b4bae6a7-2d9b-4075-9ccb-3458accde416"
      },
      "execution_count": null,
      "outputs": [
        {
          "output_type": "display_data",
          "data": {
            "text/plain": [
              "<Figure size 640x480 with 1 Axes>"
            ],
            "image/png": "[encoded data removed]"
          },
          "metadata": {}
        }
      ]
    },
    {
      "cell_type": "code",
      "source": [
        "A = {5,3,2}\n",
        "\n",
        "EA = {4,5}\n",
        "\n",
        "venn2([A,EA], set_labels =(\"Conjunto A \", \"Cojunto EA\"), set_colors=(\"yellow\", \"green\"))\n",
        "plt.figtext(0.5, 0.01, 'Yuri', ha='center', fontsize=12)\n",
        "#Codigo para mostrar los conjuntos:\n",
        "plt.show()"
      ],
      "metadata": {
        "colab": {
          "base_uri": "https://localhost:8080/",
          "height": 458
        },
        "id": "HVXPADk2bEla",
        "outputId": "0f13bcd0-8ce2-4a52-e14e-ec232b9bdd27"
      },
      "execution_count": null,
      "outputs": [
        {
          "output_type": "display_data",
          "data": {
            "text/plain": [
              "<Figure size 640x480 with 1 Axes>"
            ],
            "image/png": "[encoded data removed]"
          },
          "metadata": {}
        }
      ]
    },
    {
      "cell_type": "code",
      "source": [
        "B = {6,6,3}\n",
        "\n",
        "EB = {6}\n",
        "interseccion = len(set(B).intersection(EB))  # Intersección de B y EB\n",
        "\n",
        "# Contar elementos solo en B\n",
        "solo_B = len(B) - interseccion\n",
        "\n",
        "# Contar elementos solo en EB\n",
        "solo_EB = len(EB) - interseccion\n",
        "\n",
        "venn2([B,EB], set_labels =(\"Conjunto B \", \"Cojunto EB\"), set_colors=(\"orange\", \"purple\"))\n",
        "plt.figtext(0.5, 0.01, 'Yuri', ha='center', fontsize=12)\n",
        "#Codigo para mostrar los conjuntos:\n",
        "plt.show()"
      ],
      "metadata": {
        "colab": {
          "base_uri": "https://localhost:8080/",
          "height": 458
        },
        "id": "dC6cxuAZclc1",
        "outputId": "3305282b-c785-4234-eab2-c50dd246c130"
      },
      "execution_count": null,
      "outputs": [
        {
          "output_type": "display_data",
          "data": {
            "text/plain": [
              "<Figure size 640x480 with 1 Axes>"
            ],
            "image/png": "[encoded data removed]"
          },
          "metadata": {}
        }
      ]
    },
    {
      "cell_type": "code",
      "source": [
        "C = {1,1,3}\n",
        "EC = {4,5}\n",
        "venn2([C,EC], set_labels =(\"Conjunto C \", \"Cojunto EC\",), set_colors=(\"blue\", \"red\"))\n",
        "plt.figtext(0.5, 0.01, 'Yuri', ha='center', fontsize=12)\n",
        "#Codigo para mostrar los conjuntos:\n",
        "plt.show()"
      ],
      "metadata": {
        "id": "VLieyeILdGxC",
        "colab": {
          "base_uri": "https://localhost:8080/",
          "height": 384
        },
        "outputId": "f33d077b-1a0a-46da-d6ce-391e28b89e3b"
      },
      "execution_count": null,
      "outputs": [
        {
          "output_type": "display_data",
          "data": {
            "text/plain": [
              "<Figure size 640x480 with 1 Axes>"
            ],
            "image/png": "[encoded data removed]"
          },
          "metadata": {}
        }
      ]
    },
    {
      "cell_type": "code",
      "source": [
        "D = {2,5}\n",
        "ED = {4,5}\n",
        "venn2([D,ED], set_labels =(\"Conjunto D\", \"Cojunto ED\",), set_colors=(\"purple\", \"black\"))\n",
        "# Agregar tu nombre debajo del gráfico\n",
        "plt.figtext(0.5, 0.01, 'Yuri', ha='center', fontsize=12)\n",
        "plt.show()"
      ],
      "metadata": {
        "colab": {
          "base_uri": "https://localhost:8080/",
          "height": 458
        },
        "id": "gmdSpJmqi53_",
        "outputId": "08b8f180-2854-4a80-9ec4-4d62d67584b2"
      },
      "execution_count": null,
      "outputs": [
        {
          "output_type": "display_data",
          "data": {
            "text/plain": [
              "<Figure size 640x480 with 1 Axes>"
            ],
            "image/png": "[encoded data removed]"
          },
          "metadata": {}
        }
      ]
    },
    {
      "cell_type": "markdown",
      "source": [
        "\n",
        "\n",
        "---\n",
        "\n",
        "\n",
        "\n",
        "\n",
        "\n"
      ],
      "metadata": {
        "id": "L-5Hq5pmJesU"
      }
    },
    {
      "cell_type": "markdown",
      "source": [
        "#**Analisis de las tiradas de dados**\n",
        "#####Maya Yuliana Solis Hernandez\n",
        "####-**(1 dado de 6 caras): {1,2,3,4,5,6}**\n",
        "###Conjuntos:\n",
        "####1.   Conjunto A:{5,3,2}\n",
        "*   Daño: {2}\n",
        "\n",
        "####2.   Conjunto B:{6,6,3}\n",
        "*   Daño: {12x3}\n",
        "\n",
        "####3.   Conjunto C:{1, 1, 3}\n",
        "*   Daño: {0}\n",
        "\n",
        "####4.   Conjunto D: {2, 2, 5}\n",
        "*   Daño: 12\n",
        "\n",
        "####5.   Conjunto E: {2, 1, 2}\n",
        "*   Daño: 0\n",
        "\n",
        "####6.   Conjunto F: {6, 3, 3}\n",
        "*   Daño: 6\n",
        "\n",
        "####7.   Conjunto G: {1, 4, 6}\n",
        "*   Daño: 0\n",
        "\n",
        "####8.   Conjunto H: {6, 3, 1}\n",
        "*   Daño: 46 (Daño doble)\n",
        "\n",
        "####9.  Conjunto I: {2, 3, 4}\n",
        "*   Daño: 0\n",
        "\n",
        "####10.   Conjunto J: {3, 2, 4}\n",
        "*   Daño: 5\n",
        "\n",
        "\n",
        "###Observaciones:\n",
        "####Los conjuntos I y J son iguales porque contienen exactamente los mismos elementos, pero en diferente orden.\n",
        "####Ejemplo: F = {1, 2, 3} y G = {3, 2, 1} son iguales, aunque el orden sea diferente.\n",
        "####En los conjuntos D y E, obtuvimos el número 2 dos veces.\n",
        "\n",
        "###Intersección (∩):\n",
        "####La intersección de dos conjuntos A y B es el conjunto que contiene solo los elementos que están en ambos conjuntos.\n",
        "\n",
        "####Ejemplo: {5, 3, 2} ∩ {6, 6, 3} = {3}\n",
        "\n",
        "###Diferencia (elementos únicos de un conjunto):\n",
        "####La diferencia de dos conjuntos A y B es el conjunto de elementos que están en A pero no en B.\n",
        "\n",
        "####Por ejemplo: {5, 3, 2} - {6, 6, 3} = {5, 2}\n",
        "\n",
        "###Resultados de Intersección y Diferencia\n",
        "####-Intersección de A y B: {5, 3, 2} ∩ {6, 6, 3} = {3}\n",
        "\n",
        "####-Diferencia de A y B: {5, 3, 2} - {6, 6, 3} = {5, 2}\n",
        "\n",
        "####-Intersección de D y E: {2, 2, 5} ∩ {2, 1, 2} = {2}\n",
        "\n",
        "####-Diferencia de D y E: {2, 2, 5} - {2, 1, 2} = {5}"
      ],
      "metadata": {
        "id": "UzZrEGmNCWpd"
      }
    },
    {
      "cell_type": "code",
      "source": [
        "##Definimos los conjuntos\n",
        "A = {5, 3, 2}\n",
        "B = {6, 3}\n",
        "##Calculamos la intersección\n",
        "interseccion_A_B = A & B\n",
        "##Función para mostrar la intersección en un diagrama de Venn\n",
        "def mostrar_interseccion(conjunto1, conjunto2, interseccion, title):\n",
        "    plt.figure(figsize=(8, 5))\n",
        "    venn2(subsets=(len(conjunto1 - interseccion), len(conjunto2 - interseccion), len(interseccion)),\n",
        "          set_labels=('Conjunto A', 'Conjunto B'))\n",
        "    plt.title(title)\n",
        "    plt.show()\n",
        "##Gráfica de intersección para A y B\n",
        "mostrar_interseccion(A, B, interseccion_A_B, 'Intersección: Conjunto A y B')\n",
        "##Mostrar resultados\n",
        "print(\"Intersección de A y B:\", interseccion_A_B)"
      ],
      "metadata": {
        "id": "eITPXhuzKZs-"
      },
      "execution_count": null,
      "outputs": []
    },
    {
      "cell_type": "code",
      "source": [
        "##Calculamos la diferencia\n",
        "diferencia_A_B = A - B\n",
        "##Función para mostrar la diferencia en un diagrama de Venn\n",
        "def mostrar_diferencia(conjunto1, conjunto2, diferencia, title):\n",
        "    plt.figure(figsize=(8, 5))\n",
        "    venn2(subsets=(len(conjunto1), len(conjunto2), len(conjunto1 & conjunto2)),\n",
        "          set_labels=('Conjunto A', 'Conjunto B'))\n",
        "    plt.title(title)\n",
        "    plt.show()\n",
        "##Gráfica de diferencia para A y B\n",
        "mostrar_diferencia(A, B, diferencia_A_B, 'Diferencia: Conjunto A y B')\n",
        "##Mostrar resultados\n",
        "print(\"Diferencia de A y B:\", diferencia_A_B)"
      ],
      "metadata": {
        "id": "3PSJISdhqsVZ"
      },
      "execution_count": null,
      "outputs": []
    },
    {
      "cell_type": "code",
      "source": [
        "##Definimos los conjuntos\n",
        "D = {2, 5}\n",
        "E = {2, 1}\n",
        "##Calculamos la intersección\n",
        "interseccion_D_E = D & E\n",
        "##Gráfica de intersección para D y E\n",
        "mostrar_interseccion(D, E, interseccion_D_E, 'Intersección: Conjunto D y E')\n",
        "##Mostrar resultados\n",
        "print(\"Intersección de D y E:\", interseccion_D_E)"
      ],
      "metadata": {
        "id": "jwTNRL7QrAXm"
      },
      "execution_count": null,
      "outputs": []
    },
    {
      "cell_type": "code",
      "source": [
        "##Calculamos la diferencia\n",
        "diferencia_D_E = D - E\n",
        "##Gráfica de diferencia para D y E\n",
        "mostrar_diferencia(D, E, diferencia_D_E, 'Diferencia: Conjunto D y E')\n",
        "##Mostrar resultados\n",
        "print(\"Diferencia de D y E:\", diferencia_D_E)"
      ],
      "metadata": {
        "id": "azC2qQAzrRmC"
      },
      "execution_count": null,
      "outputs": []
    },
    {
      "cell_type": "markdown",
      "source": [
        "# $ANALISIS$ $DE$ $JUGADAS$ $-$ $JUEGO$ $DE$ $ROL$\n",
        "### Ángel Gabriel Valenzuela Guerrero\n",
        "\n",
        "##$Rol$: **Mago**\n",
        "\n",
        "##$Jugadas$ $de$ $personaje$ = **3d6** (3 dados de 6 caras)\n",
        "\n",
        "---\n",
        "\n",
        "## **$Universo$. ($U$)**\n",
        "#### Posible jugadas al tirar 3 dados.\n",
        "El numero de combinaciones posibles al tirar 3 dados de 6 caras es:\n",
        "\n",
        "\n",
        "por lo tanto:\n",
        "###$$\n",
        "U = \\{1,2,3,4,5,6\\}\n",
        "$$\n",
        "\n",
        "---\n",
        "\n",
        "## Conjuntos. - Tiradas de dados\n",
        "\n",
        "###$A$ = {5,3,2}\n",
        "\n",
        "###$B$ = {6,6,3}\n",
        "\n",
        "###$C$ = {1,1,3}\n",
        "\n",
        "###$D$ = {2,2,5}\n",
        "\n",
        "###$E$ = {2,1,2}\n",
        "\n",
        "###$F$ = {6,3,3}\n",
        "\n",
        "###$G$ = {1,4,6}\n",
        "\n",
        "###$H$ = {6,3,1}\n",
        "\n",
        "###$I$ = {2,3,4}\n",
        "\n",
        "###$J$ = {3,2,4}\n",
        "\n",
        "\n",
        "---\n",
        "##Union (∪)\n",
        "La union de dos conjuntos incluye todos los elementos que aparecen en al menos uno de ellos.\n",
        "\n",
        "###Por ejemlo: $A$ $∪$ $B$\n",
        "\n",
        " $$A = \\{5,3,2\\}$$\n",
        "\n",
        " $$B = \\{6,6,3\\}$$\n",
        "\n",
        "  $$A ∪ B = \\{2,3,5,6\\}$$\n",
        "\n",
        "###ó $C$ $∪$ $D$\n",
        "\n",
        " $$C = \\{1,1,3\\}$$\n",
        "\n",
        " $$D = \\{2,2,5\\}$$\n",
        "\n",
        "  $$C ∪ D = \\{1,2,3,5\\}$$\n",
        "\n",
        "##Interseccion (∩)\n",
        "\n",
        "La intersección contiene solo los elementos que están en ambos conjuntos.\n",
        "\n",
        "### Por ejemplo:\n",
        "\n",
        "\n",
        " $$A = \\{5,3,2\\}$$\n",
        "\n",
        " $$B = \\{6,6,3\\}$$\n",
        "\n",
        "  $$A ∩ B = \\{3\\}$$\n",
        "\n",
        "###ó $F$ $∩$ $G$\n",
        "\n",
        " $$F = \\{6,3,3\\}$$\n",
        "\n",
        " $$G = \\{1,4,6\\}$$\n",
        "\n",
        "  $$F ∩ G = \\{6\\}$$\n",
        "\n",
        "##Diferencia ($-$)\n",
        "La diferencia son los elementos que están en el primer conjunto pero no en el segundo.\n",
        "\n",
        "###Por ejemplo: $A$ $-$ $B$\n",
        " $$A = \\{5,3,2\\}$$\n",
        "\n",
        " $$B = \\{6,6,3\\}$$\n",
        "\n",
        "  $$A - B = \\{5,2\\}$$\n",
        "\n",
        "###ó $D$ $-$ $C$\n",
        "\n",
        " $$D = \\{2,2,5\\}$$\n",
        "\n",
        " $$C = \\{1,1,3\\}$$\n",
        "\n",
        "  $$D - C = \\{2,5\\}$$\n",
        "\n",
        "##Complemento\n",
        "\n",
        "$$ U = \\{1,2,3,4,5,6\\}$$\n",
        "$$ A = \\{5,3,2\\}$$\n",
        "##Conjuntos igualitarios ($\\subseteq$)\n",
        "Dos conjuntos son iguales si tienen exactamente los mismos elementos, sin importar el orden o las repeticiones.\n",
        "\n",
        "##$$I = \\{2,3,4\\}$$\n",
        "\n",
        "##$$J = \\{3,2,4\\}$$\n",
        "\n",
        "Si bien $I$  y $J$ no estan ordenasdos de la misma manera estos contienen los mismos elementos, por ende:\n",
        "\n",
        "##$$\n",
        "I ⊆ J\n",
        "$$\n",
        "\n",
        "\n",
        "\n",
        "\n"
      ],
      "metadata": {
        "id": "tY1uAtsu71PU"
      }
    },
    {
      "cell_type": "code",
      "source": [
        "import matplotlib.pyplot as plt\n",
        "from matplotlib_venn import venn3\n",
        "\n",
        "\n",
        "A = {5, 3, 2}\n",
        "B = {6, 6, 3}\n",
        "C = {1, 1, 3}\n",
        "D = {2, 2, 5}\n",
        "E = {2, 1, 2}\n",
        "F = {6, 3, 3}\n",
        "G = {1, 4, 6}\n",
        "H = {6, 3, 1}\n",
        "I = {2, 3, 4}\n",
        "J = {3, 2, 4}\n",
        "\n",
        "\n",
        "plt.figure(figsize=(5,5))\n",
        "venn = venn3([A, B, C], ('A', 'B', 'C'))\n",
        "\n",
        "\n",
        "plt.title(\"Conjuntos A - B - C\")\n",
        "plt.show()"
      ],
      "metadata": {
        "id": "GqLnNGqbFtFe"
      },
      "execution_count": null,
      "outputs": []
    },
    {
      "cell_type": "code",
      "source": [
        "import matplotlib.pyplot as plt\n",
        "from matplotlib_venn import venn3\n",
        "\n",
        "\n",
        "A = {5, 3, 2}\n",
        "B = {6, 6, 3}\n",
        "C = {1, 1, 3}\n",
        "D = {2, 2, 5}\n",
        "E = {2, 1, 2}\n",
        "F = {6, 3, 3}\n",
        "G = {1, 4, 6}\n",
        "H = {6, 3, 1}\n",
        "I = {2, 3, 4}\n",
        "J = {3, 2, 4}\n",
        "\n",
        "\n",
        "plt.figure(figsize=(5,5))\n",
        "venn = venn3([E, F, D], ('E', 'F', 'D'))\n",
        "\n",
        "\n",
        "plt.title(\"Conjuntos  D - E - F\")\n",
        "plt.show()"
      ],
      "metadata": {
        "id": "Zw9qVzEYJr5D"
      },
      "execution_count": null,
      "outputs": []
    },
    {
      "cell_type": "code",
      "source": [
        "import matplotlib.pyplot as plt\n",
        "from matplotlib_venn import venn3\n",
        "\n",
        "\n",
        "A = {5, 3, 2}\n",
        "B = {6, 6, 3}\n",
        "C = {1, 1, 3}\n",
        "D = {2, 2, 5}\n",
        "E = {2, 1, 2}\n",
        "F = {6, 3, 3}\n",
        "G = {1, 4, 6}\n",
        "H = {6, 3, 1}\n",
        "I = {2, 3, 4}\n",
        "J = {3, 2, 4}\n",
        "\n",
        "\n",
        "plt.figure(figsize=(5,5))\n",
        "venn = venn3([G, H, I], ('G', 'H', 'I'))\n",
        "\n",
        "\n",
        "plt.title(\"Conjuntos G - H - I\")\n",
        "plt.show()"
      ],
      "metadata": {
        "id": "Z3KXoxCjMmH2"
      },
      "execution_count": null,
      "outputs": []
    }
  ]
}