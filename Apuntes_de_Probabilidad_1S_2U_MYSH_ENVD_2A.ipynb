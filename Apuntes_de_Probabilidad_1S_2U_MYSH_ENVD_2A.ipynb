{
  "cells": [
    {
      "cell_type": "markdown",
      "source": [
        "#**Probabilidad**\n",
        "###**TEORIA DE CONJUNTOS**\n",
        "###1.1 CONCEPTOS BASICOS DE CONJUNTOS:\n",
        "####Se trabaja con colecciones de lementos que comparten carcateristicas en comun, estos pueden ser numeros, letras, objetos, resultado de experimentos, etc. En el contexto de los juegosde rol de mesa, estos elementos pueden ser resultados posibles de realizar una tirada de dados de 6 caras.\n",
        "\n",
        "####Los conjuntos se detonan con letras mayusculas (por ejemplo A) y sus elementos se escriben entre llaves, seprados por comas. Por ejemplo\n",
        "$A = {1,2,3,4,5,6,7}$\n",
        "\n",
        "####Ejemplo en Soulbound: Si lanzas un dado para determinar el éxito de un ataque, el conjunto de resultados es $R={1,2,3,4,5,6,7}$\n",
        "####Si un ataque tiene un DN 5, el conjunto de exito es $E={5,6}$\n",
        "###1.2 Universo\n",
        "####Es el conjunto que contiene los lementos posibles en un contexto dado. Se denota comunmente como 2\n",
        "####Ejemplo= en el lanzamiento de un dado de 6 caras como el ejemplos anterior los resultados representan el universo posible siendo esta la correcta notacion $u={1,2,3,4,5,6,7}$\n",
        "###1.3 Conjunto vacio\n",
        "####es un conjunto que no tiene elementos. Se denota como $0 o {}$\n",
        "####ejmplo= en el lanzamiento de un dado de 6 caras el conjunto de resultados mayores a 6 es : $0={}$\n",
        "####en souldbound si un personaje tiene una habilidad que nunca fallael conjunto de fallos serial $fallos = 0$\n",
        "###1.4 SUBCONJUNTO\n",
        "####es un conjunto que contiene algunos elementos del universo. se denota como ACU un conjunto A es subconjuntode un conjunto B si todos los elementos de a estan en b\n",
        "####Ejemplo: Si definimos el conjunto A como \"Numeros pares\", entonces: $A={2,4,6}CU={1,2,3,4,5,6,7}$\n",
        "####Aqui A es un subconjunto de U por que todos sus elemntos estan en U.\n",
        "###1.5 Interseccion de dos conjuntos\n",
        "####la interseccion de dos conjuntos A Y B es el conjunto que pertenece a ambis, se denota como A B\n",
        "###1.6 Unión de Conjuntos\n",
        "####La unión de dos conjuntos A y B es el conjunto de elementos que pertenecen al menos a uno de ellos. Se denota como A ∪ B.\n",
        "###1.7 Diferencia de Conjuntos\n",
        "####La diferencia entre A y B es el conjunto de elementos que están en A pero no en B. Se denota como A - B.\n",
        "###1.8 COMPLEMENTO DE CONJUNTOS\n",
        "####EL Completo de un conjunto A es el conjunto de elementos que nono estan en A pero si en el universo U se denora A O AC.\n",
        "####Ejemplo: Si el universo es $𝑈={1,2,3,4,5,6,7,8,9,10}$ $U={1,2,3,4,5,6,7,8,9,10}$ y $𝐴={2,4,6,8}A={2,4,6,8}$ , entonces el complemento de 𝐴A es:$𝐴𝑐={1,3,5,7,9,10}$ $Ac={1,3,5,7,9,10}$"
      ],
      "metadata": {
        "id": "l_4tCrhDzbDu"
      }
    }
  ],
  "metadata": {
    "colab": {
      "provenance": []
    },
    "kernelspec": {
      "display_name": "Python 3",
      "name": "python3"
    }
  },
  "nbformat": 4,
  "nbformat_minor": 0
}